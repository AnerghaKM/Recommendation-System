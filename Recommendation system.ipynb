{
 "cells": [
  {
   "cell_type": "markdown",
   "metadata": {},
   "source": [
    "# Collaborative Filtering"
   ]
  },
  {
   "cell_type": "code",
   "execution_count": 5,
   "metadata": {},
   "outputs": [
    {
     "name": "stdout",
     "output_type": "stream",
     "text": [
      "   user_id  item_id  rating\n",
      "0        1      101       5\n",
      "1        1      102       3\n",
      "2        1      103       2\n",
      "3        2      101       4\n",
      "4        2      104       5\n",
      "5        3      102       2\n",
      "6        3      103       4\n",
      "7        3      104       1\n",
      "8        4      101       4\n",
      "9        4      103       3\n"
     ]
    }
   ],
   "source": [
    "import pandas as pd\n",
    "import numpy as np\n",
    "\n",
    "# Sample user-item ratings\n",
    "data = {\n",
    "    'user_id': [1, 1, 1, 2, 2, 3, 3, 3, 4, 4],\n",
    "    'item_id': [101, 102, 103, 101, 104, 102, 103, 104, 101, 103],\n",
    "    'rating': [5, 3, 2, 4, 5, 2, 4, 1, 4, 3]\n",
    "}\n",
    "\n",
    "df = pd.DataFrame(data)\n",
    "print(df)\n"
   ]
  },
  {
   "cell_type": "code",
   "execution_count": 6,
   "metadata": {},
   "outputs": [
    {
     "name": "stdout",
     "output_type": "stream",
     "text": [
      "item_id  101  102  103  104\n",
      "user_id                    \n",
      "1        5.0  3.0  2.0  NaN\n",
      "2        4.0  NaN  NaN  5.0\n",
      "3        NaN  2.0  4.0  1.0\n",
      "4        4.0  NaN  3.0  NaN\n"
     ]
    }
   ],
   "source": [
    "# Create a User-Item Matrix:\n",
    "\n",
    "user_item_matrix = df.pivot_table(index='user_id', columns='item_id', values='rating')\n",
    "print(user_item_matrix)\n"
   ]
  },
  {
   "cell_type": "markdown",
   "metadata": {},
   "source": [
    "Compute Item-Item Similarity:"
   ]
  },
  {
   "cell_type": "code",
   "execution_count": 8,
   "metadata": {},
   "outputs": [
    {
     "name": "stdout",
     "output_type": "stream",
     "text": [
      "item_id       101       102       103       104\n",
      "item_id                                        \n",
      "101      1.000000  0.551039  0.541111  0.519524\n",
      "102      0.551039  1.000000  0.721037  0.108786\n",
      "103      0.541111  0.721037  1.000000  0.145671\n",
      "104      0.519524  0.108786  0.145671  1.000000\n"
     ]
    }
   ],
   "source": [
    "from sklearn.metrics.pairwise import cosine_similarity\n",
    "\n",
    "# Fill NaN values with 0\n",
    "user_item_matrix.fillna(0, inplace=True)\n",
    "\n",
    "# Compute cosine similarity between items\n",
    "item_similarity = cosine_similarity(user_item_matrix.T)\n",
    "item_similarity_df = pd.DataFrame(item_similarity, index=user_item_matrix.columns, columns=user_item_matrix.columns)\n",
    "\n",
    "print(item_similarity_df)\n"
   ]
  },
  {
   "cell_type": "markdown",
   "metadata": {},
   "source": [
    "Generate Recommendations"
   ]
  },
  {
   "cell_type": "code",
   "execution_count": 9,
   "metadata": {},
   "outputs": [
    {
     "name": "stdout",
     "output_type": "stream",
     "text": [
      "Recommended items for user 1: Index([104], dtype='int64', name='item_id')\n"
     ]
    }
   ],
   "source": [
    "def recommend_items(user_id, user_item_matrix, item_similarity_df, num_recommendations=3):\n",
    "    user_ratings = user_item_matrix.loc[user_id].values.reshape(1, -1)\n",
    "    similarity_scores = np.dot(user_ratings, item_similarity_df.values)\n",
    "    similarity_scores_df = pd.DataFrame(similarity_scores, columns=user_item_matrix.columns)\n",
    "\n",
    "    # Remove items already rated by the user\n",
    "    rated_items = user_item_matrix.loc[user_id][user_item_matrix.loc[user_id] > 0].index\n",
    "    similarity_scores_df.drop(columns=rated_items, inplace=True)\n",
    "\n",
    "    # Get top N recommendations\n",
    "    recommendations = similarity_scores_df.T.sort_values(by=0, ascending=False).head(num_recommendations)\n",
    "    return recommendations.index\n",
    "\n",
    "# Example recommendation for user 1\n",
    "recommended_items = recommend_items(1, user_item_matrix, item_similarity_df)\n",
    "print(\"Recommended items for user 1:\", recommended_items)\n"
   ]
  },
  {
   "cell_type": "markdown",
   "metadata": {},
   "source": [
    "# Content-Based Filtering"
   ]
  },
  {
   "cell_type": "code",
   "execution_count": 10,
   "metadata": {},
   "outputs": [
    {
     "name": "stdout",
     "output_type": "stream",
     "text": [
      "   item_id   genre  length\n",
      "0      101  Action     120\n",
      "1      102  Comedy      90\n",
      "2      103  Action     110\n",
      "3      104   Drama     140\n"
     ]
    }
   ],
   "source": [
    "# Sample item features\n",
    "item_features = {\n",
    "    'item_id': [101, 102, 103, 104],\n",
    "    'genre': ['Action', 'Comedy', 'Action', 'Drama'],\n",
    "    'length': [120, 90, 110, 140]\n",
    "}\n",
    "\n",
    "item_df = pd.DataFrame(item_features)\n",
    "print(item_df)\n"
   ]
  },
  {
   "cell_type": "markdown",
   "metadata": {},
   "source": [
    "Create a Feature Matrix:"
   ]
  },
  {
   "cell_type": "code",
   "execution_count": 11,
   "metadata": {},
   "outputs": [
    {
     "name": "stdout",
     "output_type": "stream",
     "text": [
      "Feature matrix:\n",
      " [[  1.   0.   0. 120.]\n",
      " [  0.   1.   0.  90.]\n",
      " [  1.   0.   0. 110.]\n",
      " [  0.   0.   1. 140.]]\n"
     ]
    }
   ],
   "source": [
    "from sklearn.preprocessing import OneHotEncoder\n",
    "\n",
    "# One-hot encode categorical features\n",
    "encoder = OneHotEncoder()\n",
    "encoded_features = encoder.fit_transform(item_df[['genre']]).toarray()\n",
    "\n",
    "# Combine with numerical features\n",
    "feature_matrix = np.hstack([encoded_features, item_df[['length']].values])\n",
    "\n",
    "print(\"Feature matrix:\\n\", feature_matrix)\n"
   ]
  },
  {
   "cell_type": "markdown",
   "metadata": {},
   "source": [
    "Compute Item Similarity:"
   ]
  },
  {
   "cell_type": "code",
   "execution_count": 12,
   "metadata": {},
   "outputs": [
    {
     "name": "stdout",
     "output_type": "stream",
     "text": [
      "item_id       101       102       103       104\n",
      "item_id                                        \n",
      "101      1.000000  0.999904  1.000000  0.999940\n",
      "102      0.999904  1.000000  0.999897  0.999913\n",
      "103      1.000000  0.999897  1.000000  0.999933\n",
      "104      0.999940  0.999913  0.999933  1.000000\n"
     ]
    }
   ],
   "source": [
    "# Compute cosine similarity between items based on features\n",
    "item_similarity_content = cosine_similarity(feature_matrix)\n",
    "item_similarity_content_df = pd.DataFrame(item_similarity_content, index=item_df['item_id'], columns=item_df['item_id'])\n",
    "\n",
    "print(item_similarity_content_df)\n"
   ]
  },
  {
   "cell_type": "markdown",
   "metadata": {},
   "source": [
    "Generate Content-Based Recommendations:"
   ]
  },
  {
   "cell_type": "code",
   "execution_count": 13,
   "metadata": {},
   "outputs": [
    {
     "name": "stdout",
     "output_type": "stream",
     "text": [
      "Content-based recommended items similar to item 101: Index([103, 104, 102], dtype='int64', name='item_id')\n"
     ]
    }
   ],
   "source": [
    "def recommend_items_content(item_id, item_similarity_content_df, num_recommendations=3):\n",
    "    similarity_scores = item_similarity_content_df.loc[item_id]\n",
    "    similar_items = similarity_scores.sort_values(ascending=False).head(num_recommendations + 1).index[1:]\n",
    "    return similar_items\n",
    "\n",
    "# Example content-based recommendation for item 101\n",
    "recommended_items_content = recommend_items_content(101, item_similarity_content_df)\n",
    "print(\"Content-based recommended items similar to item 101:\", recommended_items_content)\n"
   ]
  },
  {
   "cell_type": "code",
   "execution_count": null,
   "metadata": {},
   "outputs": [],
   "source": []
  }
 ],
 "metadata": {
  "kernelspec": {
   "display_name": ".venv",
   "language": "python",
   "name": "python3"
  },
  "language_info": {
   "codemirror_mode": {
    "name": "ipython",
    "version": 3
   },
   "file_extension": ".py",
   "mimetype": "text/x-python",
   "name": "python",
   "nbconvert_exporter": "python",
   "pygments_lexer": "ipython3",
   "version": "3.12.4"
  }
 },
 "nbformat": 4,
 "nbformat_minor": 2
}
